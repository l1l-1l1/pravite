{
 "cells": [
  {
   "cell_type": "code",
   "execution_count": 1,
   "id": "9cec0efb-64de-4e74-81c0-155219529c61",
   "metadata": {},
   "outputs": [],
   "source": [
    "import numpy as np\n",
    "import pandas as pd\n",
    "import dask.dataframe as dd\n",
    "import lightgbm as lgb\n",
    "from dask_ml.model_selection import train_test_split, GridSearchCV\n",
    "from dask.distributed import Client\n",
    "from sklearn.metrics import roc_auc_score\n",
    "import gc  # 가비지 컬렉션 모듈"
   ]
  },
  {
   "cell_type": "code",
   "execution_count": 2,
   "id": "bd295734-11ad-4a1f-9261-c801ed65ae0c",
   "metadata": {},
   "outputs": [],
   "source": [
    "client = Client()"
   ]
  },
  {
   "cell_type": "code",
   "execution_count": 3,
   "id": "d6b7496f-4e63-435d-826b-6fe4f79a82aa",
   "metadata": {},
   "outputs": [],
   "source": [
    "# 데이터 불러오기 및 전처리 함수\n",
    "def preprocess_data(file_path):\n",
    "    df = dd.read_csv(file_path)\n",
    "    df = df.drop('ID', axis=1)\n",
    "    \n",
    "    fill_zero_columns = ['F04', 'F11', 'F18', 'F19', 'F24', 'F27', 'F29', 'F32', 'F33', 'F36', 'F38']\n",
    "    df[fill_zero_columns] = df[fill_zero_columns].fillna(0)\n",
    "    df = df.fillna('NAN')"
   ]
  },
  {
   "cell_type": "code",
   "execution_count": 4,
   "id": "86bb5f50-5ddf-4bc7-9aab-b2bccf400ba3",
   "metadata": {},
   "outputs": [
    {
     "ename": "IndentationError",
     "evalue": "unexpected indent (1524448177.py, line 2)",
     "output_type": "error",
     "traceback": [
      "\u001b[1;36m  Cell \u001b[1;32mIn[4], line 2\u001b[1;36m\u001b[0m\n\u001b[1;33m    float_columns = df.select_dtypes(include=['float64']).columns\u001b[0m\n\u001b[1;37m    ^\u001b[0m\n\u001b[1;31mIndentationError\u001b[0m\u001b[1;31m:\u001b[0m unexpected indent\n"
     ]
    }
   ],
   "source": [
    " # 데이터 타입 최적화\n",
    "float_columns = df.select_dtypes(include=['float64']).columns\n",
    "df[float_columns] = df[float_columns].astype('float32')\n",
    "    \n",
    "int_columns = df.select_dtypes(include=['int64']).columns\n",
    "df[int_columns] = df[int_columns].astype('int32')\n",
    "    \n",
    "    object_columns = df.select_dtypes(include=['object']).columns\n",
    "    df[object_columns] = df[object_columns].astype('category')\n",
    "    \n",
    "    return df"
   ]
  },
  {
   "cell_type": "code",
   "execution_count": null,
   "id": "b155b116-2f45-4728-8d01-7264f7f6176a",
   "metadata": {},
   "outputs": [],
   "source": [
    "# Dask로 데이터 불러오기 및 전처리\n",
    "df = preprocess_data('train.csv')"
   ]
  },
  {
   "cell_type": "code",
   "execution_count": null,
   "id": "05f7a5aa-422e-42b2-b1db-93dcfb360c73",
   "metadata": {},
   "outputs": [],
   "source": [
    "# 데이터 분할\n",
    "X = df.drop('Click', axis=1)\n",
    "y = df['Click']\n",
    "X_train, X_valid, y_train, y_valid = train_test_split(X, y, test_size=0.2, random_state=42)"
   ]
  },
  {
   "cell_type": "code",
   "execution_count": null,
   "id": "022bb837-cc60-466a-8c16-46657060b5dc",
   "metadata": {},
   "outputs": [],
   "source": [
    "# 모델 정의 및 하이퍼파라미터 튜닝\n",
    "model = lgb.LGBMClassifier(objective='binary', n_jobs=-1)\n",
    "param_grid = {\n",
    "    'num_leaves': [31, 63],\n",
    "    'learning_rate': [0.01, 0.05, 0.1],\n",
    "    'n_estimators': [100, 200]\n",
    "}"
   ]
  },
  {
   "cell_type": "code",
   "execution_count": null,
   "id": "c2b3733c-1665-427b-8324-8b2d3367e4a9",
   "metadata": {},
   "outputs": [],
   "source": [
    "# GridSearchCV 설정\n",
    "grid_search = GridSearchCV(model, param_grid, cv=3, scoring='roc_auc', verbose=1)\n",
    "grid_search.fit(X_train.compute(), y_train.compute())"
   ]
  },
  {
   "cell_type": "code",
   "execution_count": null,
   "id": "833cdfe8-160f-4c89-925c-2d470d6f7210",
   "metadata": {},
   "outputs": [],
   "source": [
    "# 최적 모델 선정\n",
    "best_model = grid_search.best_estimator_"
   ]
  },
  {
   "cell_type": "code",
   "execution_count": null,
   "id": "0aba3530-4f3c-4f8b-ae40-d9cde6193ec8",
   "metadata": {},
   "outputs": [],
   "source": [
    "# 검증 데이터에서의 성능 평가\n",
    "y_valid_pred = best_model.predict_proba(X_valid)[:, 1]\n",
    "print('Validation AUC:', roc_auc_score(y_valid, y_valid_pred))"
   ]
  },
  {
   "cell_type": "code",
   "execution_count": null,
   "id": "c1f17acb-20bc-44cf-827d-e4ff5367264e",
   "metadata": {},
   "outputs": [],
   "source": [
    "# 메모리 청소\n",
    "del df, X_train, X_valid, y_train, y_valid, X, y\n",
    "gc.collect()"
   ]
  },
  {
   "cell_type": "code",
   "execution_count": null,
   "id": "1d247443-acb5-49e4-bc94-d6431c5e7ba7",
   "metadata": {},
   "outputs": [],
   "source": [
    "# 테스트 데이터 로드 및 전처리\n",
    "test_df = preprocess_data('test.csv')"
   ]
  },
  {
   "cell_type": "code",
   "execution_count": null,
   "id": "18fe62c6-d5bd-4f31-a18a-5f1869ec5532",
   "metadata": {},
   "outputs": [],
   "source": [
    "# 예측\n",
    "pred = best_model.predict_proba(test_df.compute())[:, 1]"
   ]
  },
  {
   "cell_type": "code",
   "execution_count": null,
   "id": "56f3ab81-9f43-4260-969b-d2f9f5e7086f",
   "metadata": {},
   "outputs": [],
   "source": [
    "# 제출 파일 생성\n",
    "sample_submission = pd.read_csv('sample_submission.csv')\n",
    "sample_submission['Click'] = pred\n",
    "sample_submission.to_csv('lgbm_optimized.csv', index=False)"
   ]
  }
 ],
 "metadata": {
  "kernelspec": {
   "display_name": "Python 3 (ipykernel)",
   "language": "python",
   "name": "python3"
  },
  "language_info": {
   "codemirror_mode": {
    "name": "ipython",
    "version": 3
   },
   "file_extension": ".py",
   "mimetype": "text/x-python",
   "name": "python",
   "nbconvert_exporter": "python",
   "pygments_lexer": "ipython3",
   "version": "3.11.7"
  }
 },
 "nbformat": 4,
 "nbformat_minor": 5
}
