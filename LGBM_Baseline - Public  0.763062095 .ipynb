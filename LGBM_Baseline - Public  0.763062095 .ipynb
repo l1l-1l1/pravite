{
 "cells": [
  {
   "cell_type": "markdown",
   "metadata": {},
   "source": [
    "### Import library"
   ]
  },
  {
   "cell_type": "code",
   "execution_count": 1,
   "metadata": {},
   "outputs": [],
   "source": [
    "import numpy as np\n",
    "import pandas as pd\n",
    "import lightgbm as lgb"
   ]
  },
  {
   "cell_type": "markdown",
   "metadata": {},
   "source": [
    "### Load data"
   ]
  },
  {
   "cell_type": "code",
   "execution_count": 2,
   "metadata": {},
   "outputs": [
    {
     "name": "stdout",
     "output_type": "stream",
     "text": [
      "<class 'pandas.core.frame.DataFrame'>\n",
      "RangeIndex: 28605391 entries, 0 to 28605390\n",
      "Data columns (total 41 columns):\n",
      " #   Column  Dtype   \n",
      "---  ------  -----   \n",
      " 0   ID      category\n",
      " 1   Click   int64   \n",
      " 2   F01     category\n",
      " 3   F02     category\n",
      " 4   F03     category\n",
      " 5   F04     int64   \n",
      " 6   F05     category\n",
      " 7   F06     int64   \n",
      " 8   F07     category\n",
      " 9   F08     category\n",
      " 10  F09     category\n",
      " 11  F10     category\n",
      " 12  F11     int64   \n",
      " 13  F12     category\n",
      " 14  F13     category\n",
      " 15  F14     int64   \n",
      " 16  F15     category\n",
      " 17  F16     category\n",
      " 18  F17     category\n",
      " 19  F18     int64   \n",
      " 20  F19     int64   \n",
      " 21  F20     category\n",
      " 22  F21     category\n",
      " 23  F22     category\n",
      " 24  F23     category\n",
      " 25  F24     int64   \n",
      " 26  F25     category\n",
      " 27  F26     category\n",
      " 28  F27     int64   \n",
      " 29  F28     category\n",
      " 30  F29     int64   \n",
      " 31  F30     category\n",
      " 32  F31     category\n",
      " 33  F32     int64   \n",
      " 34  F33     int64   \n",
      " 35  F34     category\n",
      " 36  F35     category\n",
      " 37  F36     int64   \n",
      " 38  F37     category\n",
      " 39  F38     int64   \n",
      " 40  F39     category\n",
      "dtypes: category(27), int64(14)\n",
      "memory usage: 6.5 GB\n"
     ]
    }
   ],
   "source": [
    "df = pd.read_csv('train.csv')\n",
    "df = df.drop('ID',axis=1)\n",
    "df['F04'] = df['F04'].fillna(0)\n",
    "df['F11'] = df['F11'].fillna(0)\n",
    "df['F18'] = df['F18'].fillna(0)\n",
    "df['F19'] = df['F19'].fillna(0)\n",
    "df['F24'] = df['F24'].fillna(0)\n",
    "df['F27'] = df['F27'].fillna(0)\n",
    "df['F29'] = df['F29'].fillna(0)\n",
    "df['F32'] = df['F32'].fillna(0)\n",
    "df['F33'] = df['F33'].fillna(0)\n",
    "df['F36'] = df['F36'].fillna(0)\n",
    "df['F38'] = df['F38'].fillna(0)\n",
    "df = df.fillna('NAN')\n",
    "float_columns = df.select_dtypes(include=['float64']).columns\n",
    "df[float_columns] = df[float_columns].astype('int64')\n",
    "object_columns = df.select_dtypes(include=['object']).columns\n",
    "df[object_columns] = df[object_columns].astype('category')\n",
    "df.info()"
   ]
  },
  {
   "cell_type": "markdown",
   "metadata": {},
   "source": [
    "### Train"
   ]
  },
  {
   "cell_type": "code",
   "execution_count": null,
   "metadata": {},
   "outputs": [],
   "source": [
    "model = lgb.LGBMClassifier(objective='binary')\n",
    "model.fit(df.drop('Click',axis=1),df['Click'],eval_metric='AUC')"
   ]
  },
  {
   "cell_type": "markdown",
   "metadata": {},
   "source": [
    "### Load test data"
   ]
  },
  {
   "cell_type": "code",
   "execution_count": 10,
   "metadata": {},
   "outputs": [],
   "source": [
    "def load_data():\n",
    "    df = pd.read_csv('test.csv')\n",
    "    df = df.drop('ID',axis=1)\n",
    "    df['F04'] = df['F04'].fillna(0)\n",
    "    df['F11'] = df['F11'].fillna(0)\n",
    "    df['F18'] = df['F18'].fillna(0)\n",
    "    df['F19'] = df['F19'].fillna(0)\n",
    "    df['F24'] = df['F24'].fillna(0)\n",
    "    df['F27'] = df['F27'].fillna(0)\n",
    "    df['F29'] = df['F29'].fillna(0)\n",
    "    df['F32'] = df['F32'].fillna(0)\n",
    "    df['F33'] = df['F33'].fillna(0)\n",
    "    df['F36'] = df['F36'].fillna(0)\n",
    "    df['F38'] = df['F38'].fillna(0)\n",
    "    df = df.fillna('NAN')\n",
    "    float_columns = df.select_dtypes(include=['float64']).columns\n",
    "    df[float_columns] = df[float_columns].astype('int64')\n",
    "    object_columns = df.select_dtypes(include=['object']).columns\n",
    "    df[object_columns] = df[object_columns].astype('category')\n",
    "    return df\n",
    "\n",
    "\n",
    "test_df = load_data()"
   ]
  },
  {
   "cell_type": "markdown",
   "metadata": {},
   "source": [
    "### Infer"
   ]
  },
  {
   "cell_type": "code",
   "execution_count": 15,
   "metadata": {},
   "outputs": [],
   "source": [
    "pred = model.predict_proba(test_df)"
   ]
  },
  {
   "cell_type": "markdown",
   "metadata": {},
   "source": [
    "### Submit"
   ]
  },
  {
   "cell_type": "code",
   "execution_count": 18,
   "metadata": {},
   "outputs": [],
   "source": [
    "sample_submission = pd.read_csv('sample_submission.csv')\n",
    "sample_submission\n",
    "\n",
    "sample_submission['Click'] = pred[:,1]\n",
    "sample_submission\n",
    "\n",
    "sample_submission.to_csv('lgbm.csv', index=False)"
   ]
  }
 ],
 "metadata": {
  "kernelspec": {
   "display_name": "click",
   "language": "python",
   "name": "python3"
  },
  "language_info": {
   "codemirror_mode": {
    "name": "ipython",
    "version": 3
   },
   "file_extension": ".py",
   "mimetype": "text/x-python",
   "name": "python",
   "nbconvert_exporter": "python",
   "pygments_lexer": "ipython3",
   "version": "3.10.14"
  }
 },
 "nbformat": 4,
 "nbformat_minor": 2
}
